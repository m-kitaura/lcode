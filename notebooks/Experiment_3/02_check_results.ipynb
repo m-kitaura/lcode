{
 "cells": [
  {
   "cell_type": "markdown",
   "metadata": {
    "heading_collapsed": "true",
    "tags": []
   },
   "source": [
    "# import"
   ]
  },
  {
   "cell_type": "code",
   "execution_count": 1,
   "metadata": {
    "execution": {
     "iopub.execute_input": "2021-07-05T12:57:09.752036Z",
     "iopub.status.busy": "2021-07-05T12:57:09.751036Z",
     "iopub.status.idle": "2021-07-05T12:57:09.883712Z",
     "shell.execute_reply": "2021-07-05T12:57:09.882069Z",
     "shell.execute_reply.started": "2021-07-05T12:57:09.751535Z"
    },
    "tags": []
   },
   "outputs": [],
   "source": [
    "import os\n",
    "import sys\n",
    "import glob\n",
    "import math\n",
    "import pandas as pd\n",
    "import numpy as np\n",
    "import seaborn as sns\n",
    "import matplotlib as mpl"
   ]
  },
  {
   "cell_type": "code",
   "execution_count": 2,
   "metadata": {
    "execution": {
     "iopub.execute_input": "2021-07-05T12:57:09.885576Z",
     "iopub.status.busy": "2021-07-05T12:57:09.885576Z",
     "iopub.status.idle": "2021-07-05T12:57:10.609773Z",
     "shell.execute_reply": "2021-07-05T12:57:10.609773Z",
     "shell.execute_reply.started": "2021-07-05T12:57:09.885576Z"
    },
    "tags": []
   },
   "outputs": [],
   "source": [
    "from config import *\n",
    "\n",
    "sys.path.append(os.path.normpath('../../src'))\n",
    "from experiment import AGG\n",
    "from util import fix_plot"
   ]
  },
  {
   "cell_type": "code",
   "execution_count": 3,
   "metadata": {
    "execution": {
     "iopub.execute_input": "2021-07-05T12:57:10.609773Z",
     "iopub.status.busy": "2021-07-05T12:57:10.609773Z",
     "iopub.status.idle": "2021-07-05T12:57:10.680346Z",
     "shell.execute_reply": "2021-07-05T12:57:10.679310Z",
     "shell.execute_reply.started": "2021-07-05T12:57:10.609773Z"
    },
    "tags": []
   },
   "outputs": [],
   "source": [
    "plt.rcParams['text.usetex'] = True\n",
    "plt.rcParams['text.latex.preamble'] = '\\\\usepackage{sansmath}\\n\\\\sansmath'\n",
    "plt.rcParams['font.family'] = 'sans-serif'\n",
    "plt.rcParams['font.sans-serif'] = 'Helvetica'"
   ]
  },
  {
   "cell_type": "markdown",
   "metadata": {
    "tags": []
   },
   "source": [
    "# Results for paper"
   ]
  },
  {
   "cell_type": "code",
   "execution_count": 4,
   "metadata": {
    "execution": {
     "iopub.execute_input": "2021-07-05T12:57:10.681265Z",
     "iopub.status.busy": "2021-07-05T12:57:10.681265Z",
     "iopub.status.idle": "2021-07-05T12:57:10.765046Z",
     "shell.execute_reply": "2021-07-05T12:57:10.764060Z",
     "shell.execute_reply.started": "2021-07-05T12:57:10.681265Z"
    },
    "tags": []
   },
   "outputs": [],
   "source": [
    "SAVE_TO_FILE = False\n",
    "SAVE_EXT = '.eps'"
   ]
  },
  {
   "cell_type": "code",
   "execution_count": 5,
   "metadata": {
    "execution": {
     "iopub.execute_input": "2021-07-05T12:57:10.768026Z",
     "iopub.status.busy": "2021-07-05T12:57:10.767007Z",
     "iopub.status.idle": "2021-07-05T12:57:18.278377Z",
     "shell.execute_reply": "2021-07-05T12:57:18.278377Z",
     "shell.execute_reply.started": "2021-07-05T12:57:10.768026Z"
    },
    "tags": []
   },
   "outputs": [],
   "source": [
    "detector = 'lcode_wd'\n",
    "dataset = 'Anuran_Calls'\n",
    "metric = 'mcc'\n",
    "agg = AGG(SAVE_DATA_DIR, dataset, detector)\n",
    "df = agg.results\n",
    "df['dataset'] = dataset\n",
    "df['method'] = detector"
   ]
  },
  {
   "cell_type": "code",
   "execution_count": 6,
   "metadata": {
    "execution": {
     "iopub.execute_input": "2021-07-05T12:57:18.280475Z",
     "iopub.status.busy": "2021-07-05T12:57:18.280475Z",
     "iopub.status.idle": "2021-07-05T12:57:18.416874Z",
     "shell.execute_reply": "2021-07-05T12:57:18.415822Z",
     "shell.execute_reply.started": "2021-07-05T12:57:18.280475Z"
    },
    "tags": []
   },
   "outputs": [],
   "source": [
    "def plt_parameter_dependency(df_base, metric, how_feature, save_path=None):\n",
    "    df = df_base[df_base['how_feature'] == how_feature]\n",
    "    score = df.groupby(by=['alpha', 'gamma']).mean()[[metric]].unstack().droplevel(0, axis=1).T\n",
    "    nod = df.groupby(by=['alpha', 'gamma']).mean()[['num_of_detection']].unstack().droplevel(0, axis=1).T\n",
    "    if how_feature == 'relevant':\n",
    "        nod = nod -1\n",
    "\n",
    "    fig, axes = plt.subplots(1, 2, figsize=(7.5, 3))\n",
    "    axes[0] = sns.heatmap(score, lw=1, ax=axes[0], vmin=0.6, vmax=0.9, cmap=sns.cm.rocket._resample(6))\n",
    "    axes[0].set_title('Classification score')\n",
    "    axes[1] = sns.heatmap(nod, lw=1, ax=axes[1], vmin=0, vmax=3, cmap=sns.cm.rocket_r._resample(6))\n",
    "    axes[1].set_title('\\# of false alarm')\n",
    "\n",
    "    for ax in axes:\n",
    "        ax.invert_yaxis()\n",
    "\n",
    "    plt.xticks(rotation=0)\n",
    "    plt.yticks(rotation=0)\n",
    "    fix_plot(plt, True, None, None, SAVE_TO_FILE, save_path, SAVE_EXT)\n",
    "    return nod, score"
   ]
  },
  {
   "cell_type": "code",
   "execution_count": 7,
   "metadata": {
    "execution": {
     "iopub.execute_input": "2021-07-05T12:57:18.418825Z",
     "iopub.status.busy": "2021-07-05T12:57:18.417822Z",
     "iopub.status.idle": "2021-07-05T12:57:21.645469Z",
     "shell.execute_reply": "2021-07-05T12:57:21.643444Z",
     "shell.execute_reply.started": "2021-07-05T12:57:18.418825Z"
    },
    "tags": []
   },
   "outputs": [
    {
     "data": {
      "image/png": "[encoded data removed]",
      "text/plain": [
       "<Figure size 540x216 with 4 Axes>"
      ]
     },
     "metadata": {
      "needs_background": "light"
     },
     "output_type": "display_data"
    }
   ],
   "source": [
    "how_feature = 'relevant'\n",
    "save_path = os.path.join(OUTPUT_DIR, 'prm_%s' % how_feature)\n",
    "nod, score = plt_parameter_dependency(df, metric, how_feature, save_path=save_path)"
   ]
  },
  {
   "cell_type": "code",
   "execution_count": 8,
   "metadata": {
    "execution": {
     "iopub.execute_input": "2021-07-05T12:57:21.646160Z",
     "iopub.status.busy": "2021-07-05T12:57:21.646160Z",
     "iopub.status.idle": "2021-07-05T12:57:22.818819Z",
     "shell.execute_reply": "2021-07-05T12:57:22.818819Z",
     "shell.execute_reply.started": "2021-07-05T12:57:21.646160Z"
    },
    "tags": []
   },
   "outputs": [
    {
     "data": {
      "image/png": "[encoded data removed]",
      "text/plain": [
       "<Figure size 540x216 with 4 Axes>"
      ]
     },
     "metadata": {
      "needs_background": "light"
     },
     "output_type": "display_data"
    }
   ],
   "source": [
    "how_feature = 'irrelevant'\n",
    "save_path = os.path.join(OUTPUT_DIR, 'prm_%s' % how_feature)\n",
    "nod, score = plt_parameter_dependency(df, metric, how_feature, save_path=save_path)"
   ]
  },
  {
   "cell_type": "code",
   "execution_count": null,
   "metadata": {},
   "outputs": [],
   "source": []
  }
 ],
 "metadata": {
  "kernelspec": {
   "display_name": "Python 3",
   "language": "python",
   "name": "python3"
  },
  "language_info": {
   "codemirror_mode": {
    "name": "ipython",
    "version": 3
   },
   "file_extension": ".py",
   "mimetype": "text/x-python",
   "name": "python",
   "nbconvert_exporter": "python",
   "pygments_lexer": "ipython3",
   "version": "3.8.1"
  },
  "toc-autonumbering": true,
  "toc-showmarkdowntxt": false,
  "toc-showtags": false,
  "widgets": {
   "application/vnd.jupyter.widget-state+json": {
    "state": {},
    "version_major": 2,
    "version_minor": 0
   }
  }
 },
 "nbformat": 4,
 "nbformat_minor": 4
}
