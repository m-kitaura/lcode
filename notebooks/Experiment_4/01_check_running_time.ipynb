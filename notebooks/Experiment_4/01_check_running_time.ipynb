{
 "cells": [
  {
   "cell_type": "markdown",
   "metadata": {
    "tags": []
   },
   "source": [
    "# import"
   ]
  },
  {
   "cell_type": "code",
   "execution_count": 1,
   "metadata": {
    "execution": {
     "iopub.execute_input": "2021-07-05T12:57:53.632920Z",
     "iopub.status.busy": "2021-07-05T12:57:53.632920Z",
     "iopub.status.idle": "2021-07-05T12:57:53.719495Z",
     "shell.execute_reply": "2021-07-05T12:57:53.718533Z",
     "shell.execute_reply.started": "2021-07-05T12:57:53.632920Z"
    },
    "tags": []
   },
   "outputs": [],
   "source": [
    "import os\n",
    "import sys"
   ]
  },
  {
   "cell_type": "code",
   "execution_count": 2,
   "metadata": {
    "execution": {
     "iopub.execute_input": "2021-07-05T12:57:53.850199Z",
     "iopub.status.busy": "2021-07-05T12:57:53.850199Z",
     "iopub.status.idle": "2021-07-05T12:57:55.482587Z",
     "shell.execute_reply": "2021-07-05T12:57:55.482587Z",
     "shell.execute_reply.started": "2021-07-05T12:57:53.850199Z"
    },
    "tags": []
   },
   "outputs": [],
   "source": [
    "from config import *\n",
    "\n",
    "sys.path.append(os.path.normpath('../../src'))\n",
    "from experiment_cost import AGG_COST\n",
    "from util import fix_plot"
   ]
  },
  {
   "cell_type": "code",
   "execution_count": 3,
   "metadata": {
    "execution": {
     "iopub.execute_input": "2021-07-05T12:57:55.627933Z",
     "iopub.status.busy": "2021-07-05T12:57:55.627933Z",
     "iopub.status.idle": "2021-07-05T12:57:55.756950Z",
     "shell.execute_reply": "2021-07-05T12:57:55.755949Z",
     "shell.execute_reply.started": "2021-07-05T12:57:55.627933Z"
    }
   },
   "outputs": [],
   "source": [
    "plt.rcParams['text.usetex'] = True\n",
    "plt.rcParams['text.latex.preamble'] = '\\\\usepackage{sansmath}\\n\\\\sansmath'\n",
    "plt.rcParams['font.family'] = 'sans-serif'\n",
    "plt.rcParams['font.sans-serif'] = 'Helvetica'"
   ]
  },
  {
   "cell_type": "markdown",
   "metadata": {
    "tags": []
   },
   "source": [
    "# Run Experiment"
   ]
  },
  {
   "cell_type": "code",
   "execution_count": 4,
   "metadata": {
    "execution": {
     "iopub.execute_input": "2021-07-05T12:57:55.760956Z",
     "iopub.status.busy": "2021-07-05T12:57:55.760956Z",
     "iopub.status.idle": "2021-07-05T12:57:55.927470Z",
     "shell.execute_reply": "2021-07-05T12:57:55.925904Z",
     "shell.execute_reply.started": "2021-07-05T12:57:55.760956Z"
    },
    "tags": []
   },
   "outputs": [],
   "source": [
    "import warnings\n",
    "warnings.simplefilter('ignore', pd.io.pytables.PerformanceWarning)\n",
    "warnings.filterwarnings('ignore', message='ks_2samp')"
   ]
  },
  {
   "cell_type": "code",
   "execution_count": null,
   "metadata": {
    "tags": []
   },
   "outputs": [],
   "source": [
    "for dataset in DATASETS:\n",
    "    for detector in ALL_DETECTORS:\n",
    "        runner = EX_RUNNERS[detector](\n",
    "            base_data_dir=INTERIM_DATA_DIR,\n",
    "            save_dir=SAVE_DATA_DIR,\n",
    "            dataset_name=dataset,\n",
    "            detector_name=detector,\n",
    "            detector_cls=ALL_DETECTORS[detector],\n",
    "            base_data_type=BASE_DATA_TYPE)\n",
    "        runner.run_experiment(detector_prms=DETECTOR_PRMSS[detector], show_progress=True)"
   ]
  },
  {
   "cell_type": "markdown",
   "metadata": {
    "execution": {
     "iopub.execute_input": "2021-06-15T14:19:40.772132Z",
     "iopub.status.busy": "2021-06-15T14:19:40.772132Z",
     "iopub.status.idle": "2021-06-15T14:19:40.886884Z",
     "shell.execute_reply": "2021-06-15T14:19:40.885961Z",
     "shell.execute_reply.started": "2021-06-15T14:19:40.772132Z"
    }
   },
   "source": [
    "# results"
   ]
  },
  {
   "cell_type": "code",
   "execution_count": 5,
   "metadata": {
    "execution": {
     "iopub.execute_input": "2021-07-05T12:58:08.080134Z",
     "iopub.status.busy": "2021-07-05T12:58:08.080134Z",
     "iopub.status.idle": "2021-07-05T12:58:08.250918Z",
     "shell.execute_reply": "2021-07-05T12:58:08.249918Z",
     "shell.execute_reply.started": "2021-07-05T12:58:08.080134Z"
    }
   },
   "outputs": [],
   "source": [
    "SAVE_TO_FILE = False\n",
    "SAVE_EXT = '.eps'"
   ]
  },
  {
   "cell_type": "code",
   "execution_count": 6,
   "metadata": {
    "execution": {
     "iopub.execute_input": "2021-07-05T12:58:08.416798Z",
     "iopub.status.busy": "2021-07-05T12:58:08.416798Z",
     "iopub.status.idle": "2021-07-05T12:58:08.561660Z",
     "shell.execute_reply": "2021-07-05T12:58:08.560584Z",
     "shell.execute_reply.started": "2021-07-05T12:58:08.416798Z"
    }
   },
   "outputs": [],
   "source": [
    "train_size = 1000  # TODO"
   ]
  },
  {
   "cell_type": "code",
   "execution_count": 7,
   "metadata": {
    "execution": {
     "iopub.execute_input": "2021-07-05T12:58:08.811074Z",
     "iopub.status.busy": "2021-07-05T12:58:08.808958Z",
     "iopub.status.idle": "2021-07-05T12:58:22.008001Z",
     "shell.execute_reply": "2021-07-05T12:58:22.008001Z",
     "shell.execute_reply.started": "2021-07-05T12:58:08.811074Z"
    },
    "tags": []
   },
   "outputs": [],
   "source": [
    "dfs = []\n",
    "for dataset in DATASETS:\n",
    "    for detector in ALL_DETECTORS:\n",
    "        agg = AGG_COST(SAVE_DATA_DIR, dataset, detector)\n",
    "        df = agg.results\n",
    "        df['dataset'] = dataset\n",
    "        df['method'] = detector\n",
    "        df['len'] = pd.read_csv(df['base_path'][0]).shape[0]\n",
    "        dfs.append(df)\n",
    "df_base = pd.concat(dfs)\n",
    "df_base['time'] = df_base['time'].astype(float)"
   ]
  },
  {
   "cell_type": "markdown",
   "metadata": {},
   "source": [
    "## "
   ]
  },
  {
   "cell_type": "code",
   "execution_count": 8,
   "metadata": {
    "execution": {
     "iopub.execute_input": "2021-07-05T12:58:22.356490Z",
     "iopub.status.busy": "2021-07-05T12:58:22.356490Z",
     "iopub.status.idle": "2021-07-05T12:58:22.484215Z",
     "shell.execute_reply": "2021-07-05T12:58:22.484215Z",
     "shell.execute_reply.started": "2021-07-05T12:58:22.356490Z"
    },
    "tags": []
   },
   "outputs": [],
   "source": [
    "df = df_base.copy()\n",
    "df['time'] = df['time'] / (df['len'] - train_size)\n",
    "df = df.pivot(index='method', columns='dataset', values='time')\n",
    "df = df.loc[list(ALL_DETECTORS)]"
   ]
  },
  {
   "cell_type": "code",
   "execution_count": 9,
   "metadata": {
    "execution": {
     "iopub.execute_input": "2021-07-05T12:58:22.484215Z",
     "iopub.status.busy": "2021-07-05T12:58:22.484215Z",
     "iopub.status.idle": "2021-07-05T12:58:25.608951Z",
     "shell.execute_reply": "2021-07-05T12:58:25.608951Z",
     "shell.execute_reply.started": "2021-07-05T12:58:22.484215Z"
    },
    "tags": []
   },
   "outputs": [
    {
     "data": {
      "image/png": "[encoded data removed]",
      "text/plain": [
       "<Figure size 576x216 with 1 Axes>"
      ]
     },
     "metadata": {
      "needs_background": "light"
     },
     "output_type": "display_data"
    }
   ],
   "source": [
    "save_path = os.path.join(OUTPUT_DIR, 'processing time')\n",
    "\n",
    "fig, ax = plt.subplots(1, 1, figsize=(8, 3))\n",
    "ax.bar(x=df.index.str.replace('_', '-'), height=df.mean(axis=1), yerr=df.std(axis=1), \n",
    "       color=[COLORS[DETECTOR_TYPES[method]] for method in df.index])\n",
    "ax.set_xlabel('method')\n",
    "ax.set_ylabel('processing time per sample [s]')\n",
    "plt.yscale('log')\n",
    "fix_plot(plt, True, None, None, SAVE_TO_FILE, save_path, SAVE_EXT)"
   ]
  },
  {
   "cell_type": "markdown",
   "metadata": {},
   "source": [
    "## "
   ]
  },
  {
   "cell_type": "markdown",
   "metadata": {},
   "source": [
    "HDDDM is batch-based method and runs only every train_size (batch size). Therefore, the following comparison may be better."
   ]
  },
  {
   "cell_type": "code",
   "execution_count": 10,
   "metadata": {
    "execution": {
     "iopub.execute_input": "2021-07-05T12:58:26.333420Z",
     "iopub.status.busy": "2021-07-05T12:58:26.333420Z",
     "iopub.status.idle": "2021-07-05T12:58:26.457378Z",
     "shell.execute_reply": "2021-07-05T12:58:26.456818Z",
     "shell.execute_reply.started": "2021-07-05T12:58:26.333420Z"
    },
    "tags": []
   },
   "outputs": [],
   "source": [
    "df = df_base.copy()\n",
    "df.loc[df['method'] != 'hdddm', 'time'] = df[df['method'] != 'hdddm']['time'] / (df[df['method'] != 'hdddm']['len'] - train_size)\n",
    "df.loc[df['method'] == 'hdddm', 'time'] = df[df['method'] == 'hdddm']['time'] / (df[df['method'] == 'hdddm']['len'] // train_size - 1)\n",
    "df = df.pivot(index='method', columns='dataset', values='time')\n",
    "df = df.loc[list(ALL_DETECTORS)]"
   ]
  },
  {
   "cell_type": "code",
   "execution_count": 11,
   "metadata": {
    "execution": {
     "iopub.execute_input": "2021-07-05T12:58:26.459256Z",
     "iopub.status.busy": "2021-07-05T12:58:26.458464Z",
     "iopub.status.idle": "2021-07-05T12:58:26.923488Z",
     "shell.execute_reply": "2021-07-05T12:58:26.922447Z",
     "shell.execute_reply.started": "2021-07-05T12:58:26.459256Z"
    },
    "tags": []
   },
   "outputs": [
    {
     "data": {
      "image/png": "[encoded data removed]",
      "text/plain": [
       "<Figure size 576x216 with 1 Axes>"
      ]
     },
     "metadata": {
      "needs_background": "light"
     },
     "output_type": "display_data"
    }
   ],
   "source": [
    "save_path = os.path.join(OUTPUT_DIR, 'processing time')\n",
    "\n",
    "fig, ax = plt.subplots(1, 1, figsize=(8, 3))\n",
    "ax.bar(x=df.index.str.replace('_', '-'), height=df.mean(axis=1), yerr=df.std(axis=1), \n",
    "       color=[COLORS[DETECTOR_TYPES[method]] for method in df.index])\n",
    "ax.set_xlabel('method')\n",
    "ax.set_ylabel('processing time per sample [s]')\n",
    "plt.yscale('log')\n",
    "fix_plot(plt, True, None, None, SAVE_TO_FILE, save_path, SAVE_EXT)"
   ]
  },
  {
   "cell_type": "code",
   "execution_count": null,
   "metadata": {},
   "outputs": [],
   "source": []
  }
 ],
 "metadata": {
  "kernelspec": {
   "display_name": "Python 3",
   "language": "python",
   "name": "python3"
  },
  "language_info": {
   "codemirror_mode": {
    "name": "ipython",
    "version": 3
   },
   "file_extension": ".py",
   "mimetype": "text/x-python",
   "name": "python",
   "nbconvert_exporter": "python",
   "pygments_lexer": "ipython3",
   "version": "3.8.1"
  },
  "toc-autonumbering": true,
  "toc-showmarkdowntxt": false,
  "toc-showtags": false,
  "widgets": {
   "application/vnd.jupyter.widget-state+json": {
    "state": {},
    "version_major": 2,
    "version_minor": 0
   }
  }
 },
 "nbformat": 4,
 "nbformat_minor": 4
}
