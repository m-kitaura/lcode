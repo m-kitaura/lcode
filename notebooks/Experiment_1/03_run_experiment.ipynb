{
 "cells": [
  {
   "cell_type": "markdown",
   "metadata": {
    "tags": []
   },
   "source": [
    "# import"
   ]
  },
  {
   "cell_type": "code",
   "execution_count": null,
   "metadata": {
    "tags": []
   },
   "outputs": [],
   "source": [
    "import os\n",
    "import sys\n",
    "import pandas as pd"
   ]
  },
  {
   "cell_type": "code",
   "execution_count": null,
   "metadata": {
    "tags": []
   },
   "outputs": [],
   "source": [
    "from config import *"
   ]
  },
  {
   "cell_type": "markdown",
   "metadata": {
    "tags": []
   },
   "source": [
    "# Run Experiment"
   ]
  },
  {
   "cell_type": "code",
   "execution_count": null,
   "metadata": {
    "tags": []
   },
   "outputs": [],
   "source": [
    "import warnings\n",
    "warnings.simplefilter('ignore', pd.io.pytables.PerformanceWarning)\n",
    "warnings.filterwarnings('ignore', message='ks_2samp')"
   ]
  },
  {
   "cell_type": "code",
   "execution_count": null,
   "metadata": {
    "tags": []
   },
   "outputs": [],
   "source": [
    "# %%capture output\n",
    "for dataset in DATASETS:\n",
    "    for detector in ALL_DETECTORS:\n",
    "        runner = EX_RUNNERS[detector](\n",
    "            base_data_dir=INTERIM_DATA_DIR,\n",
    "            drift_info_dir=DRIFT_INFO_DIR,\n",
    "            save_dir=SAVE_DATA_DIR,\n",
    "            dataset_name=dataset,\n",
    "            detector_name=detector,\n",
    "            detector_cls=ALL_DETECTORS[detector],\n",
    "            base_data_type=BASE_DATA_TYPE)\n",
    "        runner.run_experiment(DATA_PRMS, DETECTOR_PRMSS[detector])"
   ]
  }
 ],
 "metadata": {
  "kernelspec": {
   "display_name": "Python 3",
   "language": "python",
   "name": "python3"
  },
  "language_info": {
   "codemirror_mode": {
    "name": "ipython",
    "version": 3
   },
   "file_extension": ".py",
   "mimetype": "text/x-python",
   "name": "python",
   "nbconvert_exporter": "python",
   "pygments_lexer": "ipython3",
   "version": "3.8.1"
  },
  "toc-autonumbering": true,
  "toc-showmarkdowntxt": false,
  "toc-showtags": false,
  "widgets": {
   "application/vnd.jupyter.widget-state+json": {
    "state": {},
    "version_major": 2,
    "version_minor": 0
   }
  }
 },
 "nbformat": 4,
 "nbformat_minor": 4
}
