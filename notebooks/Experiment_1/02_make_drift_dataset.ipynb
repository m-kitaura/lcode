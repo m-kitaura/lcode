{
 "cells": [
  {
   "cell_type": "markdown",
   "metadata": {
    "tags": []
   },
   "source": [
    "# import"
   ]
  },
  {
   "cell_type": "code",
   "execution_count": 1,
   "metadata": {
    "execution": {
     "iopub.execute_input": "2021-07-05T12:35:17.355797Z",
     "iopub.status.busy": "2021-07-05T12:35:17.355797Z",
     "iopub.status.idle": "2021-07-05T12:35:17.477937Z",
     "shell.execute_reply": "2021-07-05T12:35:17.476935Z",
     "shell.execute_reply.started": "2021-07-05T12:35:17.355797Z"
    },
    "tags": []
   },
   "outputs": [],
   "source": [
    "import os\n",
    "import sys\n",
    "import glob\n",
    "import math\n",
    "import itertools\n",
    "import json\n",
    "import pandas as pd\n",
    "import numpy as np\n",
    "\n",
    "import matplotlib.pyplot as plt"
   ]
  },
  {
   "cell_type": "code",
   "execution_count": 2,
   "metadata": {
    "execution": {
     "iopub.execute_input": "2021-07-05T12:35:17.480619Z",
     "iopub.status.busy": "2021-07-05T12:35:17.479600Z",
     "iopub.status.idle": "2021-07-05T12:35:18.995769Z",
     "shell.execute_reply": "2021-07-05T12:35:18.995769Z",
     "shell.execute_reply.started": "2021-07-05T12:35:17.480619Z"
    },
    "tags": []
   },
   "outputs": [],
   "source": [
    "from config import *\n",
    "\n",
    "sys.path.append(os.path.normpath('../../src'))\n",
    "from drift_induction import DRIFT_INDUCTION\n",
    "from util import fix_plot"
   ]
  },
  {
   "cell_type": "code",
   "execution_count": 3,
   "metadata": {
    "execution": {
     "iopub.execute_input": "2021-07-05T12:35:18.997888Z",
     "iopub.status.busy": "2021-07-05T12:35:18.997888Z",
     "iopub.status.idle": "2021-07-05T12:35:19.126596Z",
     "shell.execute_reply": "2021-07-05T12:35:19.125534Z",
     "shell.execute_reply.started": "2021-07-05T12:35:18.997888Z"
    },
    "tags": []
   },
   "outputs": [],
   "source": [
    "plt.rcParams['text.usetex'] = True\n",
    "plt.rcParams['text.latex.preamble'] = '\\\\usepackage{sansmath}\\n\\\\sansmath'\n",
    "plt.rcParams['font.family'] = 'sans-serif'\n",
    "plt.rcParams['font.sans-serif'] = 'Helvetica'"
   ]
  },
  {
   "cell_type": "code",
   "execution_count": 4,
   "metadata": {
    "execution": {
     "iopub.execute_input": "2021-07-05T12:35:19.127535Z",
     "iopub.status.busy": "2021-07-05T12:35:19.127535Z",
     "iopub.status.idle": "2021-07-05T12:35:19.249001Z",
     "shell.execute_reply": "2021-07-05T12:35:19.248092Z",
     "shell.execute_reply.started": "2021-07-05T12:35:19.127535Z"
    }
   },
   "outputs": [],
   "source": [
    "SAVE_TO_FILE = False\n",
    "SAVE_EXT = '.eps'"
   ]
  },
  {
   "cell_type": "markdown",
   "metadata": {},
   "source": [
    "# Make synthetic drift"
   ]
  },
  {
   "cell_type": "code",
   "execution_count": 5,
   "metadata": {
    "execution": {
     "iopub.execute_input": "2021-07-05T12:35:19.251038Z",
     "iopub.status.busy": "2021-07-05T12:35:19.251038Z",
     "iopub.status.idle": "2021-07-05T12:35:21.335212Z",
     "shell.execute_reply": "2021-07-05T12:35:21.335212Z",
     "shell.execute_reply.started": "2021-07-05T12:35:19.251038Z"
    },
    "tags": []
   },
   "outputs": [],
   "source": [
    "def make_dataset(dataset):\n",
    "    path = os.path.join(INTERIM_DATA_DIR, dataset + '_' + BASE_DATA_TYPE + '.csv')\n",
    "    di = DRIFT_INDUCTION(dataset, path, DRIFT_INFO_DIR)\n",
    "\n",
    "    # base condition\n",
    "    seed = 0\n",
    "    change_point = 0.5\n",
    "    shuffle_ratio = 0.2\n",
    "    how_feature = 'relevant'\n",
    "    how_class = 'all'\n",
    "\n",
    "    # loop variables\n",
    "    seed_list = DATA_PRMS['seed']\n",
    "    how_feature_list = DATA_PRMS['how_feature']\n",
    "    how_class_list = DATA_PRMS['how_class']\n",
    "\n",
    "    itr = itertools.product(seed_list, how_feature_list, how_class_list)\n",
    "    for i, (seed, how_feature, how_class) in enumerate(itr):\n",
    "\n",
    "        data_cond = {\n",
    "            'seed': seed,\n",
    "            'change_point': change_point,\n",
    "            'shuffle_ratio': shuffle_ratio,\n",
    "            'how_feature': how_feature,\n",
    "            'how_class': how_class,\n",
    "        }\n",
    "\n",
    "        di.induct(**data_cond)\n",
    "\n",
    "for dataset in All_DATASETS:\n",
    "    make_dataset(dataset)"
   ]
  },
  {
   "cell_type": "markdown",
   "metadata": {},
   "source": [
    "# Select valid datasets"
   ]
  },
  {
   "cell_type": "code",
   "execution_count": 6,
   "metadata": {
    "execution": {
     "iopub.execute_input": "2021-07-05T12:35:21.335212Z",
     "iopub.status.busy": "2021-07-05T12:35:21.335212Z",
     "iopub.status.idle": "2021-07-05T12:35:24.129496Z",
     "shell.execute_reply": "2021-07-05T12:35:24.129496Z",
     "shell.execute_reply.started": "2021-07-05T12:35:21.335212Z"
    }
   },
   "outputs": [],
   "source": [
    "def agg_metadata(datasets):\n",
    "    data_conds = list()\n",
    "    metadatas = list()\n",
    "    for dataset in datasets:\n",
    "        info_list = glob.glob(os.path.join(DRIFT_INFO_DIR, dataset, '*'))\n",
    "        for info in info_list:\n",
    "            data_cond, metadata, idx_col = DRIFT_INDUCTION.load(info)\n",
    "            data_conds.append(data_cond)\n",
    "            metadatas.append(metadata)\n",
    "\n",
    "    df_dc = pd.DataFrame(data_conds)\n",
    "    df_meta = pd.DataFrame(metadatas)\n",
    "    df_meta = pd.concat([df_dc, df_meta], axis=1)\n",
    "    df_meta = df_meta[df_meta['how_class'] == 'minor']\n",
    "    return df_meta\n",
    "\n",
    "df_meta = agg_metadata(All_DATASETS)"
   ]
  },
  {
   "cell_type": "code",
   "execution_count": 7,
   "metadata": {
    "execution": {
     "iopub.execute_input": "2021-07-05T12:35:24.129496Z",
     "iopub.status.busy": "2021-07-05T12:35:24.129496Z",
     "iopub.status.idle": "2021-07-05T12:35:24.315222Z",
     "shell.execute_reply": "2021-07-05T12:35:24.314697Z",
     "shell.execute_reply.started": "2021-07-05T12:35:24.129496Z"
    }
   },
   "outputs": [
    {
     "data": {
      "text/html": [
       "<div>\n",
       "<style scoped>\n",
       "    .dataframe tbody tr th:only-of-type {\n",
       "        vertical-align: middle;\n",
       "    }\n",
       "\n",
       "    .dataframe tbody tr th {\n",
       "        vertical-align: top;\n",
       "    }\n",
       "\n",
       "    .dataframe thead tr th {\n",
       "        text-align: left;\n",
       "    }\n",
       "</style>\n",
       "<table border=\"1\" class=\"dataframe\">\n",
       "  <thead>\n",
       "    <tr>\n",
       "      <th></th>\n",
       "      <th>dataset</th>\n",
       "      <th colspan=\"2\" halign=\"left\">prev_score</th>\n",
       "      <th colspan=\"2\" halign=\"left\">post_score</th>\n",
       "      <th colspan=\"2\" halign=\"left\">change_in_score</th>\n",
       "    </tr>\n",
       "    <tr>\n",
       "      <th>how_feature</th>\n",
       "      <th></th>\n",
       "      <th>irrelevant</th>\n",
       "      <th>relevant</th>\n",
       "      <th>irrelevant</th>\n",
       "      <th>relevant</th>\n",
       "      <th>irrelevant</th>\n",
       "      <th>relevant</th>\n",
       "    </tr>\n",
       "  </thead>\n",
       "  <tbody>\n",
       "    <tr>\n",
       "      <th>0</th>\n",
       "      <td>Anuran_Calls</td>\n",
       "      <td>0.927673</td>\n",
       "      <td>0.927673</td>\n",
       "      <td>0.927380</td>\n",
       "      <td>0.364356</td>\n",
       "      <td>-0.000293</td>\n",
       "      <td>-0.563318</td>\n",
       "    </tr>\n",
       "    <tr>\n",
       "      <th>1</th>\n",
       "      <td>avila</td>\n",
       "      <td>0.789030</td>\n",
       "      <td>0.789030</td>\n",
       "      <td>0.791358</td>\n",
       "      <td>0.338566</td>\n",
       "      <td>0.002328</td>\n",
       "      <td>-0.450464</td>\n",
       "    </tr>\n",
       "    <tr>\n",
       "      <th>2</th>\n",
       "      <td>Cardiotocography</td>\n",
       "      <td>0.734804</td>\n",
       "      <td>0.734804</td>\n",
       "      <td>0.734280</td>\n",
       "      <td>0.293713</td>\n",
       "      <td>-0.000524</td>\n",
       "      <td>-0.441091</td>\n",
       "    </tr>\n",
       "    <tr>\n",
       "      <th>3</th>\n",
       "      <td>EEG</td>\n",
       "      <td>0.566234</td>\n",
       "      <td>0.566234</td>\n",
       "      <td>0.567052</td>\n",
       "      <td>0.460359</td>\n",
       "      <td>0.000818</td>\n",
       "      <td>-0.105875</td>\n",
       "    </tr>\n",
       "    <tr>\n",
       "      <th>4</th>\n",
       "      <td>image</td>\n",
       "      <td>0.892764</td>\n",
       "      <td>0.892764</td>\n",
       "      <td>0.892975</td>\n",
       "      <td>0.492260</td>\n",
       "      <td>0.000211</td>\n",
       "      <td>-0.400504</td>\n",
       "    </tr>\n",
       "    <tr>\n",
       "      <th>5</th>\n",
       "      <td>landsat</td>\n",
       "      <td>0.740234</td>\n",
       "      <td>0.740234</td>\n",
       "      <td>0.741623</td>\n",
       "      <td>0.637668</td>\n",
       "      <td>0.001388</td>\n",
       "      <td>-0.102566</td>\n",
       "    </tr>\n",
       "    <tr>\n",
       "      <th>6</th>\n",
       "      <td>letter-recognition</td>\n",
       "      <td>0.748604</td>\n",
       "      <td>0.748604</td>\n",
       "      <td>0.750994</td>\n",
       "      <td>0.383639</td>\n",
       "      <td>0.002391</td>\n",
       "      <td>-0.364965</td>\n",
       "    </tr>\n",
       "    <tr>\n",
       "      <th>7</th>\n",
       "      <td>magic</td>\n",
       "      <td>0.665408</td>\n",
       "      <td>0.665408</td>\n",
       "      <td>0.665354</td>\n",
       "      <td>0.577619</td>\n",
       "      <td>-0.000053</td>\n",
       "      <td>-0.087789</td>\n",
       "    </tr>\n",
       "    <tr>\n",
       "      <th>8</th>\n",
       "      <td>page-blocks</td>\n",
       "      <td>0.777697</td>\n",
       "      <td>0.777697</td>\n",
       "      <td>0.776964</td>\n",
       "      <td>0.562298</td>\n",
       "      <td>-0.000733</td>\n",
       "      <td>-0.215399</td>\n",
       "    </tr>\n",
       "    <tr>\n",
       "      <th>9</th>\n",
       "      <td>pendigits</td>\n",
       "      <td>0.933011</td>\n",
       "      <td>0.933011</td>\n",
       "      <td>0.932803</td>\n",
       "      <td>0.350575</td>\n",
       "      <td>-0.000208</td>\n",
       "      <td>-0.582436</td>\n",
       "    </tr>\n",
       "    <tr>\n",
       "      <th>10</th>\n",
       "      <td>Wall-following</td>\n",
       "      <td>0.870287</td>\n",
       "      <td>0.870287</td>\n",
       "      <td>0.872341</td>\n",
       "      <td>0.343904</td>\n",
       "      <td>0.002054</td>\n",
       "      <td>-0.526383</td>\n",
       "    </tr>\n",
       "  </tbody>\n",
       "</table>\n",
       "</div>"
      ],
      "text/plain": [
       "                        dataset prev_score           post_score            \\\n",
       "how_feature                     irrelevant  relevant irrelevant  relevant   \n",
       "0                  Anuran_Calls   0.927673  0.927673   0.927380  0.364356   \n",
       "1                         avila   0.789030  0.789030   0.791358  0.338566   \n",
       "2              Cardiotocography   0.734804  0.734804   0.734280  0.293713   \n",
       "3                           EEG   0.566234  0.566234   0.567052  0.460359   \n",
       "4                         image   0.892764  0.892764   0.892975  0.492260   \n",
       "5                       landsat   0.740234  0.740234   0.741623  0.637668   \n",
       "6            letter-recognition   0.748604  0.748604   0.750994  0.383639   \n",
       "7                         magic   0.665408  0.665408   0.665354  0.577619   \n",
       "8                   page-blocks   0.777697  0.777697   0.776964  0.562298   \n",
       "9                     pendigits   0.933011  0.933011   0.932803  0.350575   \n",
       "10               Wall-following   0.870287  0.870287   0.872341  0.343904   \n",
       "\n",
       "            change_in_score            \n",
       "how_feature      irrelevant  relevant  \n",
       "0                 -0.000293 -0.563318  \n",
       "1                  0.002328 -0.450464  \n",
       "2                 -0.000524 -0.441091  \n",
       "3                  0.000818 -0.105875  \n",
       "4                  0.000211 -0.400504  \n",
       "5                  0.001388 -0.102566  \n",
       "6                  0.002391 -0.364965  \n",
       "7                 -0.000053 -0.087789  \n",
       "8                 -0.000733 -0.215399  \n",
       "9                 -0.000208 -0.582436  \n",
       "10                 0.002054 -0.526383  "
      ]
     },
     "execution_count": 7,
     "metadata": {},
     "output_type": "execute_result"
    }
   ],
   "source": [
    "def select_valid_datasets(df_meta, min_score=0.5, max_irr_drop=0.01, min_rel_drop=0.05):\n",
    "    df_tmp = df_meta[['dataset', 'how_feature', 'prev_score', 'post_score']].copy()\n",
    "    df_tmp['change_in_score'] = df_tmp['post_score'] - df_tmp['prev_score']\n",
    "    df_tmp = df_tmp.groupby(['dataset', 'how_feature']).mean().unstack(level=1)\n",
    "    df_tmp = df_tmp.T[All_DATASETS].T\n",
    "    df_tmp = df_tmp[df_tmp['prev_score']['irrelevant'] > min_score]\n",
    "    df_tmp = df_tmp[abs(df_tmp['change_in_score']['irrelevant']) < max_irr_drop]\n",
    "    df_tmp = df_tmp[df_tmp['change_in_score']['relevant'] < -min_rel_drop]\n",
    "    df_tmp = df_tmp.reset_index()\n",
    "    return df_tmp\n",
    "\n",
    "df_tmp = select_valid_datasets(df_meta)\n",
    "selected_datasets = df_tmp['dataset'].values.tolist()\n",
    "with open('dataset.conf', 'w') as f:\n",
    "    json.dump({'selected_datasets': selected_datasets}, f, indent=2)\n",
    "df_tmp"
   ]
  },
  {
   "cell_type": "markdown",
   "metadata": {},
   "source": [
    "# Check induction effect"
   ]
  },
  {
   "cell_type": "code",
   "execution_count": 8,
   "metadata": {
    "execution": {
     "iopub.execute_input": "2021-07-05T12:35:24.315222Z",
     "iopub.status.busy": "2021-07-05T12:35:24.315222Z",
     "iopub.status.idle": "2021-07-05T12:35:24.447027Z",
     "shell.execute_reply": "2021-07-05T12:35:24.445616Z",
     "shell.execute_reply.started": "2021-07-05T12:35:24.315222Z"
    },
    "tags": []
   },
   "outputs": [],
   "source": [
    "def plot_drift_magnitude(df_meta, datasets):\n",
    "    df_plt = df_meta[['dataset', 'how_feature', 'prev_hd', 'post_hd']].copy()\n",
    "    df_plt['without drift'] = df_meta['prev_hd'].apply(lambda x: np.mean(x)).values\n",
    "    df_plt['with drift'] = df_meta['post_hd'].apply(lambda x: np.mean(x)).values\n",
    "    m = df_plt.groupby(['dataset', 'how_feature']).mean()\n",
    "    s = df_plt.groupby(['dataset', 'how_feature']).std()\n",
    "\n",
    "    ncols = 6\n",
    "    nrows = math.ceil(len(datasets) / ncols)\n",
    "    fig, axes = plt.subplots(nrows, ncols, figsize=(ncols*1.5, nrows*1.5), sharex=True, sharey=True)\n",
    "    axes = axes.flatten()\n",
    "    for i, d in enumerate(datasets):\n",
    "        ax = axes[i]\n",
    "        m.loc[d].plot.bar(yerr=s.loc[d], ax=ax)\n",
    "        ax.set_ylim(0, 0.11)\n",
    "        ax.set_xlabel('')\n",
    "        ax.set_ylabel('drift magnitude')\n",
    "        ax.tick_params(axis='x', labelrotation=0)\n",
    "        ax.legend([], frameon=False)\n",
    "        ax.tick_params(axis='y', direction='in')\n",
    "        ax.text(0.98, 0.98, d.replace('_', '-'), horizontalalignment='right', verticalalignment='top',\n",
    "                transform=ax.transAxes)\n",
    "\n",
    "        if (i // ncols) < (nrows - 1):\n",
    "            ax.xaxis.set_visible(False)\n",
    "#         if (i % ncols) > 0:\n",
    "#             ax.yaxis.set_visible(False)\n",
    "\n",
    "    (m.loc[d] * 0).plot.bar(ax=axes[-1])\n",
    "    axes[-1].legend(loc='center', bbox_to_anchor=(0.5, 0.5), frameon=False)\n",
    "    axes[-1].axis('off')\n",
    "\n",
    "    save_path = os.path.join(OUTPUT_DIR, 'drift_magnitude')\n",
    "    fix_plot(plt, True, 0.05, 0.05, SAVE_TO_FILE, save_path, SAVE_EXT)\n",
    "    return m.unstack(level=1)"
   ]
  },
  {
   "cell_type": "code",
   "execution_count": 9,
   "metadata": {
    "execution": {
     "iopub.execute_input": "2021-07-05T12:35:24.449585Z",
     "iopub.status.busy": "2021-07-05T12:35:24.448192Z",
     "iopub.status.idle": "2021-07-05T12:35:24.566417Z",
     "shell.execute_reply": "2021-07-05T12:35:24.565416Z",
     "shell.execute_reply.started": "2021-07-05T12:35:24.449585Z"
    },
    "tags": []
   },
   "outputs": [],
   "source": [
    "def plot_induction_effect(df_meta, datasets):\n",
    "    df_plt = df_meta[['dataset', 'how_feature']].copy()\n",
    "    df_plt['without drift'] = df_meta['prev_score'].values\n",
    "    df_plt['with drift'] = df_meta['post_score'].values\n",
    "    m = df_plt.groupby(['dataset', 'how_feature']).mean()\n",
    "    s = df_plt.groupby(['dataset', 'how_feature']).std()\n",
    "\n",
    "    ncols = 6\n",
    "    nrows = math.ceil(len(datasets) / ncols)\n",
    "    fig, axes = plt.subplots(nrows, ncols, figsize=(ncols*1.5, nrows*1.5), sharex=True, sharey=True)\n",
    "    axes = axes.flatten()\n",
    "    for i, d in enumerate(datasets):\n",
    "        ax = axes[i]\n",
    "        m.loc[d].plot.bar(yerr=s.loc[d], ax=ax)\n",
    "        ax.set_ylim(0, 1.1)\n",
    "        ax.set_xlabel('')\n",
    "        ax.set_ylabel('classification score')\n",
    "        ax.tick_params(axis='x', labelrotation=0)\n",
    "        ax.legend([], frameon=False)\n",
    "        ax.tick_params(axis='y', direction='in')\n",
    "        ax.text(0.98, 0.98, d.replace('_', '-'), horizontalalignment='right', verticalalignment='top',\n",
    "                transform=ax.transAxes)\n",
    "\n",
    "        if (i // ncols) < (nrows - 1):\n",
    "            ax.xaxis.set_visible(False)\n",
    "#         if (i % ncols) > 0:\n",
    "#             ax.yaxis.set_visible(False)\n",
    "\n",
    "    (m.loc[d] * 0).plot.bar(ax=axes[-1])\n",
    "    axes[-1].legend(loc='center', bbox_to_anchor=(0.5, 0.5), frameon=False)\n",
    "    axes[-1].axis('off')\n",
    "\n",
    "    save_path = os.path.join(OUTPUT_DIR, 'induction_effect')\n",
    "    fix_plot(plt, True, 0.05, 0.05, SAVE_TO_FILE, save_path, SAVE_EXT)\n",
    "    return m.unstack(level=1)"
   ]
  },
  {
   "cell_type": "code",
   "execution_count": 10,
   "metadata": {
    "execution": {
     "iopub.execute_input": "2021-07-05T12:35:24.568983Z",
     "iopub.status.busy": "2021-07-05T12:35:24.568983Z",
     "iopub.status.idle": "2021-07-05T12:35:27.798653Z",
     "shell.execute_reply": "2021-07-05T12:35:27.798653Z",
     "shell.execute_reply.started": "2021-07-05T12:35:24.568983Z"
    },
    "tags": []
   },
   "outputs": [
    {
     "data": {
      "image/png": "[encoded data removed]",
      "text/plain": [
       "<Figure size 648x216 with 12 Axes>"
      ]
     },
     "metadata": {
      "needs_background": "light"
     },
     "output_type": "display_data"
    }
   ],
   "source": [
    "dm = plot_drift_magnitude(df_meta, selected_datasets)"
   ]
  },
  {
   "cell_type": "code",
   "execution_count": 11,
   "metadata": {
    "execution": {
     "iopub.execute_input": "2021-07-05T12:35:27.798653Z",
     "iopub.status.busy": "2021-07-05T12:35:27.798653Z",
     "iopub.status.idle": "2021-07-05T12:35:29.119116Z",
     "shell.execute_reply": "2021-07-05T12:35:29.119116Z",
     "shell.execute_reply.started": "2021-07-05T12:35:27.798653Z"
    },
    "tags": []
   },
   "outputs": [
    {
     "data": {
      "image/png": "[encoded data removed]",
      "text/plain": [
       "<Figure size 648x216 with 12 Axes>"
      ]
     },
     "metadata": {
      "needs_background": "light"
     },
     "output_type": "display_data"
    }
   ],
   "source": [
    "ie = plot_induction_effect(df_meta, selected_datasets)"
   ]
  },
  {
   "cell_type": "code",
   "execution_count": 12,
   "metadata": {
    "execution": {
     "iopub.execute_input": "2021-07-05T12:35:29.119116Z",
     "iopub.status.busy": "2021-07-05T12:35:29.119116Z",
     "iopub.status.idle": "2021-07-05T12:35:29.710976Z",
     "shell.execute_reply": "2021-07-05T12:35:29.710976Z",
     "shell.execute_reply.started": "2021-07-05T12:35:29.119116Z"
    }
   },
   "outputs": [
    {
     "data": {
      "text/html": [
       "<div>\n",
       "<style scoped>\n",
       "    .dataframe tbody tr th:only-of-type {\n",
       "        vertical-align: middle;\n",
       "    }\n",
       "\n",
       "    .dataframe tbody tr th {\n",
       "        vertical-align: top;\n",
       "    }\n",
       "\n",
       "    .dataframe thead th {\n",
       "        text-align: right;\n",
       "    }\n",
       "</style>\n",
       "<table border=\"1\" class=\"dataframe\">\n",
       "  <thead>\n",
       "    <tr style=\"text-align: right;\">\n",
       "      <th></th>\n",
       "      <th># of instances</th>\n",
       "      <th># of features</th>\n",
       "      <th>Class ratio</th>\n",
       "      <th>drift_magnitude</th>\n",
       "      <th>change_in_score</th>\n",
       "    </tr>\n",
       "    <tr>\n",
       "      <th>Dataset</th>\n",
       "      <th></th>\n",
       "      <th></th>\n",
       "      <th></th>\n",
       "      <th></th>\n",
       "      <th></th>\n",
       "    </tr>\n",
       "  </thead>\n",
       "  <tbody>\n",
       "    <tr>\n",
       "      <th>Anuran_Calls</th>\n",
       "      <td>7195</td>\n",
       "      <td>22</td>\n",
       "      <td>61.4% : 38.6%</td>\n",
       "      <td>0.035</td>\n",
       "      <td>-0.563</td>\n",
       "    </tr>\n",
       "    <tr>\n",
       "      <th>avila</th>\n",
       "      <td>20867</td>\n",
       "      <td>10</td>\n",
       "      <td>78.3% : 21.7%</td>\n",
       "      <td>0.018</td>\n",
       "      <td>-0.450</td>\n",
       "    </tr>\n",
       "    <tr>\n",
       "      <th>Cardiotocography</th>\n",
       "      <td>2126</td>\n",
       "      <td>21</td>\n",
       "      <td>77.8% : 22.2%</td>\n",
       "      <td>0.029</td>\n",
       "      <td>-0.441</td>\n",
       "    </tr>\n",
       "    <tr>\n",
       "      <th>EEG</th>\n",
       "      <td>14980</td>\n",
       "      <td>14</td>\n",
       "      <td>55.1% : 44.9%</td>\n",
       "      <td>0.010</td>\n",
       "      <td>-0.106</td>\n",
       "    </tr>\n",
       "    <tr>\n",
       "      <th>image</th>\n",
       "      <td>2310</td>\n",
       "      <td>19</td>\n",
       "      <td>71.4% : 28.6%</td>\n",
       "      <td>0.015</td>\n",
       "      <td>-0.401</td>\n",
       "    </tr>\n",
       "    <tr>\n",
       "      <th>landsat</th>\n",
       "      <td>6435</td>\n",
       "      <td>36</td>\n",
       "      <td>79.3% : 20.7%</td>\n",
       "      <td>0.026</td>\n",
       "      <td>-0.103</td>\n",
       "    </tr>\n",
       "    <tr>\n",
       "      <th>letter-recognition</th>\n",
       "      <td>20000</td>\n",
       "      <td>16</td>\n",
       "      <td>77.8% : 22.2%</td>\n",
       "      <td>0.033</td>\n",
       "      <td>-0.365</td>\n",
       "    </tr>\n",
       "    <tr>\n",
       "      <th>magic</th>\n",
       "      <td>19020</td>\n",
       "      <td>10</td>\n",
       "      <td>64.8% : 35.2%</td>\n",
       "      <td>0.034</td>\n",
       "      <td>-0.088</td>\n",
       "    </tr>\n",
       "    <tr>\n",
       "      <th>page-blocks</th>\n",
       "      <td>5473</td>\n",
       "      <td>10</td>\n",
       "      <td>89.8% : 10.2%</td>\n",
       "      <td>0.025</td>\n",
       "      <td>-0.215</td>\n",
       "    </tr>\n",
       "    <tr>\n",
       "      <th>pendigits</th>\n",
       "      <td>10992</td>\n",
       "      <td>16</td>\n",
       "      <td>71.2% : 28.8%</td>\n",
       "      <td>0.051</td>\n",
       "      <td>-0.582</td>\n",
       "    </tr>\n",
       "    <tr>\n",
       "      <th>Wall-following</th>\n",
       "      <td>5456</td>\n",
       "      <td>24</td>\n",
       "      <td>78.8% : 21.2%</td>\n",
       "      <td>0.020</td>\n",
       "      <td>-0.526</td>\n",
       "    </tr>\n",
       "  </tbody>\n",
       "</table>\n",
       "</div>"
      ],
      "text/plain": [
       "                    # of instances  # of features    Class ratio  \\\n",
       "Dataset                                                            \n",
       "Anuran_Calls                  7195             22  61.4% : 38.6%   \n",
       "avila                        20867             10  78.3% : 21.7%   \n",
       "Cardiotocography              2126             21  77.8% : 22.2%   \n",
       "EEG                          14980             14  55.1% : 44.9%   \n",
       "image                         2310             19  71.4% : 28.6%   \n",
       "landsat                       6435             36  79.3% : 20.7%   \n",
       "letter-recognition           20000             16  77.8% : 22.2%   \n",
       "magic                        19020             10  64.8% : 35.2%   \n",
       "page-blocks                   5473             10  89.8% : 10.2%   \n",
       "pendigits                    10992             16  71.2% : 28.8%   \n",
       "Wall-following                5456             24  78.8% : 21.2%   \n",
       "\n",
       "                    drift_magnitude  change_in_score  \n",
       "Dataset                                               \n",
       "Anuran_Calls                  0.035           -0.563  \n",
       "avila                         0.018           -0.450  \n",
       "Cardiotocography              0.029           -0.441  \n",
       "EEG                           0.010           -0.106  \n",
       "image                         0.015           -0.401  \n",
       "landsat                       0.026           -0.103  \n",
       "letter-recognition            0.033           -0.365  \n",
       "magic                         0.034           -0.088  \n",
       "page-blocks                   0.025           -0.215  \n",
       "pendigits                     0.051           -0.582  \n",
       "Wall-following                0.020           -0.526  "
      ]
     },
     "execution_count": 12,
     "metadata": {},
     "output_type": "execute_result"
    }
   ],
   "source": [
    "dfs = []\n",
    "for dataset in selected_datasets:\n",
    "    path = os.path.join(INTERIM_DATA_DIR, dataset + '_' + BASE_DATA_TYPE + '.csv')\n",
    "    df = pd.read_csv(path)\n",
    "    class_ratio = (df['label'].value_counts() / len(df['label'])) * 100\n",
    "    class_ratio = '%.1f%% : %.1f%%'%(class_ratio[0], class_ratio[1])\n",
    "    dfs.append([dataset, df.shape[0], df.shape[1]-1, class_ratio])\n",
    "df = pd.DataFrame(dfs, columns=['Dataset', '# of instances', '# of features', 'Class ratio'])\n",
    "\n",
    "drift_magnitude = dm['with drift']['relevant'] - dm['without drift']['relevant']\n",
    "change_in_score = ie['with drift']['relevant'] - ie['without drift']['relevant']\n",
    "\n",
    "df['drift_magnitude'] = drift_magnitude[selected_datasets].values.round(3)\n",
    "df['change_in_score'] = change_in_score[selected_datasets].values.round(3)\n",
    "\n",
    "df = df.set_index('Dataset')\n",
    "df"
   ]
  },
  {
   "cell_type": "code",
   "execution_count": null,
   "metadata": {},
   "outputs": [],
   "source": []
  },
  {
   "cell_type": "code",
   "execution_count": null,
   "metadata": {},
   "outputs": [],
   "source": []
  }
 ],
 "metadata": {
  "kernelspec": {
   "display_name": "Python 3",
   "language": "python",
   "name": "python3"
  },
  "language_info": {
   "codemirror_mode": {
    "name": "ipython",
    "version": 3
   },
   "file_extension": ".py",
   "mimetype": "text/x-python",
   "name": "python",
   "nbconvert_exporter": "python",
   "pygments_lexer": "ipython3",
   "version": "3.8.1"
  },
  "toc-autonumbering": true,
  "toc-showmarkdowntxt": false,
  "toc-showtags": false,
  "widgets": {
   "application/vnd.jupyter.widget-state+json": {
    "state": {},
    "version_major": 2,
    "version_minor": 0
   }
  }
 },
 "nbformat": 4,
 "nbformat_minor": 4
}
