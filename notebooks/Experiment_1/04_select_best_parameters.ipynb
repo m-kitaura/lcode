{
 "cells": [
  {
   "cell_type": "markdown",
   "metadata": {
    "heading_collapsed": "true",
    "tags": []
   },
   "source": [
    "# import"
   ]
  },
  {
   "cell_type": "code",
   "execution_count": 1,
   "metadata": {
    "execution": {
     "iopub.execute_input": "2021-07-05T12:35:49.221167Z",
     "iopub.status.busy": "2021-07-05T12:35:49.221167Z",
     "iopub.status.idle": "2021-07-05T12:35:49.318294Z",
     "shell.execute_reply": "2021-07-05T12:35:49.318294Z",
     "shell.execute_reply.started": "2021-07-05T12:35:49.221167Z"
    },
    "tags": []
   },
   "outputs": [],
   "source": [
    "import os\n",
    "import sys\n",
    "import json\n",
    "import pandas as pd"
   ]
  },
  {
   "cell_type": "code",
   "execution_count": 2,
   "metadata": {
    "execution": {
     "iopub.execute_input": "2021-07-05T12:35:49.318294Z",
     "iopub.status.busy": "2021-07-05T12:35:49.318294Z",
     "iopub.status.idle": "2021-07-05T12:35:50.657020Z",
     "shell.execute_reply": "2021-07-05T12:35:50.657020Z",
     "shell.execute_reply.started": "2021-07-05T12:35:49.318294Z"
    },
    "tags": []
   },
   "outputs": [],
   "source": [
    "from config import *\n",
    "\n",
    "sys.path.append(os.path.normpath('../../src'))\n",
    "from experiment import AGG\n",
    "from common import count_false_alarm"
   ]
  },
  {
   "cell_type": "markdown",
   "metadata": {},
   "source": [
    "# Select best parameters"
   ]
  },
  {
   "cell_type": "code",
   "execution_count": 3,
   "metadata": {
    "execution": {
     "iopub.execute_input": "2021-07-05T12:35:50.657020Z",
     "iopub.status.busy": "2021-07-05T12:35:50.657020Z",
     "iopub.status.idle": "2021-07-05T12:35:50.799072Z",
     "shell.execute_reply": "2021-07-05T12:35:50.797077Z",
     "shell.execute_reply.started": "2021-07-05T12:35:50.657020Z"
    },
    "tags": []
   },
   "outputs": [],
   "source": [
    "def get_best_prms(result):\n",
    "    if not isinstance(result, pd.DataFrame):\n",
    "        return {}\n",
    "    df = result.copy()\n",
    "    df['total'] = df['mcc'] - FA_WEIGHT * df['false alarm']\n",
    "    keys = df.index.names\n",
    "    vals = df.sort_values('total').index[-1]\n",
    "    if isinstance(vals, tuple):\n",
    "        vals = list(vals)\n",
    "    else:\n",
    "        vals = [vals]\n",
    "    return {k: v for k, v in zip(keys, vals)}"
   ]
  },
  {
   "cell_type": "code",
   "execution_count": 4,
   "metadata": {
    "execution": {
     "iopub.execute_input": "2021-07-05T12:35:50.800018Z",
     "iopub.status.busy": "2021-07-05T12:35:50.800018Z",
     "iopub.status.idle": "2021-07-05T12:35:50.930891Z",
     "shell.execute_reply": "2021-07-05T12:35:50.929888Z",
     "shell.execute_reply.started": "2021-07-05T12:35:50.800018Z"
    },
    "tags": []
   },
   "outputs": [],
   "source": [
    "def check_prms(detector, dataset, detector_prms):\n",
    "    if len(detector_prms) == 0:\n",
    "        return {}\n",
    "    agg = AGG(SAVE_DATA_DIR, dataset, detector)\n",
    "    df = agg.results\n",
    "    df = df[df['seed'] < n_tune].copy()\n",
    "    df = count_false_alarm(df)\n",
    "    if df.groupby(by=detector_prms).count()['seed'].std() != 0:\n",
    "        print(dataset, detector, detector_prms)\n",
    "    return df.groupby(by=detector_prms).mean()[['mcc', 'false alarm']]"
   ]
  },
  {
   "cell_type": "markdown",
   "metadata": {},
   "source": [
    "## Random seed split\n",
    "[seed < n_tune]: for tuning, \n",
    "[seed >= n_tune]: for evaluation"
   ]
  },
  {
   "cell_type": "code",
   "execution_count": 5,
   "metadata": {
    "execution": {
     "iopub.execute_input": "2021-07-05T12:35:50.931718Z",
     "iopub.status.busy": "2021-07-05T12:35:50.931718Z",
     "iopub.status.idle": "2021-07-05T12:35:51.055532Z",
     "shell.execute_reply": "2021-07-05T12:35:51.054588Z",
     "shell.execute_reply.started": "2021-07-05T12:35:50.931718Z"
    },
    "tags": []
   },
   "outputs": [],
   "source": [
    "n_tune = len(DATA_PRMS['seed']) // 2"
   ]
  },
  {
   "cell_type": "code",
   "execution_count": 6,
   "metadata": {
    "execution": {
     "iopub.execute_input": "2021-07-05T12:35:51.057531Z",
     "iopub.status.busy": "2021-07-05T12:35:51.057531Z",
     "iopub.status.idle": "2021-07-05T12:39:54.510508Z",
     "shell.execute_reply": "2021-07-05T12:39:54.510508Z",
     "shell.execute_reply.started": "2021-07-05T12:35:51.057531Z"
    },
    "tags": []
   },
   "outputs": [],
   "source": [
    "results = {}\n",
    "best_prms = {}\n",
    "for detector in ALL_DETECTORS:\n",
    "    results[detector] = {}\n",
    "    best_prms[detector] = {}\n",
    "    detector_prms = [k for k in DETECTOR_PRMSS[detector].keys()]\n",
    "    for dataset in DATASETS:\n",
    "        results[detector][dataset] = check_prms(detector, dataset, detector_prms)\n",
    "        best_prms[detector][dataset] = get_best_prms(results[detector][dataset])"
   ]
  },
  {
   "cell_type": "code",
   "execution_count": 7,
   "metadata": {
    "execution": {
     "iopub.execute_input": "2021-07-05T12:39:54.510508Z",
     "iopub.status.busy": "2021-07-05T12:39:54.510508Z",
     "iopub.status.idle": "2021-07-05T12:39:54.774259Z",
     "shell.execute_reply": "2021-07-05T12:39:54.773243Z",
     "shell.execute_reply.started": "2021-07-05T12:39:54.510508Z"
    },
    "tags": []
   },
   "outputs": [],
   "source": [
    "# from https://github.com/hmallen/numpyencoder/blob/master/numpyencoder/numpyencoder.py\n",
    "class NumpyEncoder(json.JSONEncoder):\n",
    "    \"\"\" Custom encoder for numpy data types \"\"\"\n",
    "    def default(self, obj):\n",
    "        if isinstance(obj, (np.int_, np.intc, np.intp, np.int8,\n",
    "                            np.int16, np.int32, np.int64, np.uint8,\n",
    "                            np.uint16, np.uint32, np.uint64)):\n",
    "\n",
    "            return int(obj)\n",
    "\n",
    "        elif isinstance(obj, (np.float_, np.float16, np.float32, np.float64)):\n",
    "            return float(obj)\n",
    "        \n",
    "        elif isinstance(obj, (np.complex_, np.complex64, np.complex128)):\n",
    "            return {'real': obj.real, 'imag': obj.imag}\n",
    "        \n",
    "        elif isinstance(obj, (np.ndarray,)):\n",
    "            return obj.tolist()\n",
    "    \n",
    "        elif isinstance(obj, (np.bool_)):\n",
    "            return bool(obj)\n",
    "\n",
    "        elif isinstance(obj, (np.void)): \n",
    "            return None\n",
    "\n",
    "        return json.JSONEncoder.default(self, obj)"
   ]
  },
  {
   "cell_type": "code",
   "execution_count": 8,
   "metadata": {
    "execution": {
     "iopub.execute_input": "2021-07-05T12:39:54.776256Z",
     "iopub.status.busy": "2021-07-05T12:39:54.776256Z",
     "iopub.status.idle": "2021-07-05T12:39:54.928390Z",
     "shell.execute_reply": "2021-07-05T12:39:54.927388Z",
     "shell.execute_reply.started": "2021-07-05T12:39:54.776256Z"
    },
    "tags": []
   },
   "outputs": [],
   "source": [
    "with open('detector.conf', 'w') as f:\n",
    "    json.dump(best_prms, f, indent=2, cls=NumpyEncoder)"
   ]
  },
  {
   "cell_type": "markdown",
   "metadata": {
    "execution": {
     "iopub.execute_input": "2021-05-28T18:16:17.688339Z",
     "iopub.status.busy": "2021-05-28T18:16:17.688339Z",
     "iopub.status.idle": "2021-05-28T18:16:18.494753Z",
     "shell.execute_reply": "2021-05-28T18:16:18.493747Z",
     "shell.execute_reply.started": "2021-05-28T18:16:17.688339Z"
    },
    "tags": []
   },
   "source": [
    "for detector, tables in results.items():\n",
    "    print('%s ====================================================' % detector)\n",
    "    for dataset, table in tables.items():\n",
    "        print(dataset)\n",
    "        display(table.T)"
   ]
  },
  {
   "cell_type": "code",
   "execution_count": null,
   "metadata": {},
   "outputs": [],
   "source": []
  }
 ],
 "metadata": {
  "kernelspec": {
   "display_name": "Python 3",
   "language": "python",
   "name": "python3"
  },
  "language_info": {
   "codemirror_mode": {
    "name": "ipython",
    "version": 3
   },
   "file_extension": ".py",
   "mimetype": "text/x-python",
   "name": "python",
   "nbconvert_exporter": "python",
   "pygments_lexer": "ipython3",
   "version": "3.8.1"
  },
  "toc-autonumbering": true,
  "toc-showmarkdowntxt": false,
  "toc-showtags": false,
  "widgets": {
   "application/vnd.jupyter.widget-state+json": {
    "state": {},
    "version_major": 2,
    "version_minor": 0
   }
  }
 },
 "nbformat": 4,
 "nbformat_minor": 4
}
