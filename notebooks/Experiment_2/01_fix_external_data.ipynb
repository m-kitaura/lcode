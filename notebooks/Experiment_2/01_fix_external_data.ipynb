{
 "cells": [
  {
   "cell_type": "markdown",
   "metadata": {
    "heading_collapsed": "true",
    "tags": []
   },
   "source": [
    "# import"
   ]
  },
  {
   "cell_type": "code",
   "execution_count": 1,
   "metadata": {
    "execution": {
     "iopub.execute_input": "2021-07-05T12:52:12.371809Z",
     "iopub.status.busy": "2021-07-05T12:52:12.371257Z",
     "iopub.status.idle": "2021-07-05T12:52:13.598353Z",
     "shell.execute_reply": "2021-07-05T12:52:13.595853Z",
     "shell.execute_reply.started": "2021-07-05T12:52:12.371809Z"
    },
    "tags": []
   },
   "outputs": [],
   "source": [
    "import os\n",
    "import pandas as pd\n",
    "import numpy as np\n",
    "import seaborn as sns\n",
    "from sklearn.preprocessing import RobustScaler\n",
    "import matplotlib.pyplot as plt"
   ]
  },
  {
   "cell_type": "code",
   "execution_count": 2,
   "metadata": {
    "execution": {
     "iopub.execute_input": "2021-07-05T12:52:13.600060Z",
     "iopub.status.busy": "2021-07-05T12:52:13.600060Z",
     "iopub.status.idle": "2021-07-05T12:52:16.199290Z",
     "shell.execute_reply": "2021-07-05T12:52:16.199290Z",
     "shell.execute_reply.started": "2021-07-05T12:52:13.600060Z"
    },
    "tags": []
   },
   "outputs": [],
   "source": [
    "from config import *"
   ]
  },
  {
   "cell_type": "code",
   "execution_count": 3,
   "metadata": {
    "execution": {
     "iopub.execute_input": "2021-07-05T12:52:16.203228Z",
     "iopub.status.busy": "2021-07-05T12:52:16.203228Z",
     "iopub.status.idle": "2021-07-05T12:52:16.395641Z",
     "shell.execute_reply": "2021-07-05T12:52:16.394635Z",
     "shell.execute_reply.started": "2021-07-05T12:52:16.203228Z"
    }
   },
   "outputs": [],
   "source": [
    "os.makedirs(EXTERNAL_DATA_DIR, exist_ok=True)\n",
    "os.makedirs(BASE_DATA_DIR, exist_ok=True)\n",
    "os.makedirs(INTERIM_DATA_DIR, exist_ok=True)\n",
    "os.makedirs(OUTPUT_DIR, exist_ok=True)"
   ]
  },
  {
   "cell_type": "markdown",
   "metadata": {
    "heading_collapsed": "true",
    "tags": []
   },
   "source": [
    "# Convert to csv format"
   ]
  },
  {
   "cell_type": "code",
   "execution_count": 4,
   "metadata": {
    "execution": {
     "iopub.execute_input": "2021-07-05T12:52:16.398204Z",
     "iopub.status.busy": "2021-07-05T12:52:16.397186Z",
     "iopub.status.idle": "2021-07-05T12:52:16.591615Z",
     "shell.execute_reply": "2021-07-05T12:52:16.590609Z",
     "shell.execute_reply.started": "2021-07-05T12:52:16.398204Z"
    }
   },
   "outputs": [],
   "source": [
    "dataset_name = 'Insects_A'\n",
    "\n",
    "save_path = os.path.join(BASE_DATA_DIR, dataset_name+'.csv')\n",
    "if not os.path.exists(save_path):\n",
    "    df = pd.read_csv(os.path.join(EXTERNAL_DATA_DIR, 'Insects', 'INSECTS-abrupt_balanced_norm.arff'), header=None, skiprows=38)\n",
    "    df.columns = ['feat%d'%i for i in range(len(df.columns)-1)] + ['label']\n",
    "    df.to_csv(save_path, index=False)\n",
    "    print(df.shape)"
   ]
  },
  {
   "cell_type": "code",
   "execution_count": 5,
   "metadata": {
    "execution": {
     "iopub.execute_input": "2021-07-05T12:52:16.593615Z",
     "iopub.status.busy": "2021-07-05T12:52:16.592614Z",
     "iopub.status.idle": "2021-07-05T12:52:16.763734Z",
     "shell.execute_reply": "2021-07-05T12:52:16.762571Z",
     "shell.execute_reply.started": "2021-07-05T12:52:16.593615Z"
    }
   },
   "outputs": [],
   "source": [
    "dataset_name = 'Insects_I'\n",
    "\n",
    "save_path = os.path.join(BASE_DATA_DIR, dataset_name+'.csv')\n",
    "if not os.path.exists(save_path):\n",
    "    df = pd.read_csv(os.path.join(EXTERNAL_DATA_DIR, 'Insects', 'INSECTS-incremental_balanced_norm.arff'), header=None, skiprows=38)\n",
    "    df.columns = ['feat%d'%i for i in range(len(df.columns)-1)] + ['label']\n",
    "    df.to_csv(save_path, index=False)\n",
    "    print(df.shape)"
   ]
  },
  {
   "cell_type": "code",
   "execution_count": 6,
   "metadata": {
    "execution": {
     "iopub.execute_input": "2021-07-05T12:52:16.765704Z",
     "iopub.status.busy": "2021-07-05T12:52:16.765704Z",
     "iopub.status.idle": "2021-07-05T12:52:16.963549Z",
     "shell.execute_reply": "2021-07-05T12:52:16.962156Z",
     "shell.execute_reply.started": "2021-07-05T12:52:16.765704Z"
    }
   },
   "outputs": [],
   "source": [
    "dataset_name = 'Insects_IG'\n",
    "\n",
    "save_path = os.path.join(BASE_DATA_DIR, dataset_name+'.csv')\n",
    "if not os.path.exists(save_path):\n",
    "    df = pd.read_csv(os.path.join(EXTERNAL_DATA_DIR, 'Insects', 'INSECTS-gradual_balanced_norm.arff'), header=None, skiprows=38)\n",
    "    df.columns = ['feat%d'%i for i in range(len(df.columns)-1)] + ['label']\n",
    "    df.to_csv(save_path, index=False)\n",
    "    print(df.shape)"
   ]
  },
  {
   "cell_type": "code",
   "execution_count": 7,
   "metadata": {
    "execution": {
     "iopub.execute_input": "2021-07-05T12:52:16.966474Z",
     "iopub.status.busy": "2021-07-05T12:52:16.966002Z",
     "iopub.status.idle": "2021-07-05T12:52:17.195635Z",
     "shell.execute_reply": "2021-07-05T12:52:17.193427Z",
     "shell.execute_reply.started": "2021-07-05T12:52:16.966474Z"
    }
   },
   "outputs": [],
   "source": [
    "dataset_name = 'Insects_IR'\n",
    "\n",
    "save_path = os.path.join(BASE_DATA_DIR, dataset_name+'.csv')\n",
    "if not os.path.exists(save_path):\n",
    "    df = pd.read_csv(os.path.join(EXTERNAL_DATA_DIR, 'Insects', 'INSECTS-incremental-reoccurring_balanced_norm.arff'), header=None, skiprows=38)\n",
    "    df.columns = ['feat%d'%i for i in range(len(df.columns)-1)] + ['label']\n",
    "    df.to_csv(save_path, index=False)\n",
    "    print(df.shape)"
   ]
  },
  {
   "cell_type": "code",
   "execution_count": 8,
   "metadata": {
    "execution": {
     "iopub.execute_input": "2021-07-05T12:52:17.198635Z",
     "iopub.status.busy": "2021-07-05T12:52:17.198135Z",
     "iopub.status.idle": "2021-07-05T12:52:17.444255Z",
     "shell.execute_reply": "2021-07-05T12:52:17.442997Z",
     "shell.execute_reply.started": "2021-07-05T12:52:17.198135Z"
    }
   },
   "outputs": [],
   "source": [
    "dataset_name = 'Insects_IAR'\n",
    "\n",
    "save_path = os.path.join(BASE_DATA_DIR, dataset_name+'.csv')\n",
    "if not os.path.exists(save_path):\n",
    "    df = pd.read_csv(os.path.join(EXTERNAL_DATA_DIR, 'Insects', 'INSECTS-incremental-abrupt_balanced_norm.arff'), header=None, skiprows=38)\n",
    "    df.columns = ['feat%d'%i for i in range(len(df.columns)-1)] + ['label']\n",
    "    df.to_csv(save_path, index=False)\n",
    "    print(df.shape)"
   ]
  },
  {
   "cell_type": "code",
   "execution_count": 9,
   "metadata": {
    "execution": {
     "iopub.execute_input": "2021-07-05T12:52:17.449599Z",
     "iopub.status.busy": "2021-07-05T12:52:17.447872Z",
     "iopub.status.idle": "2021-07-05T12:52:17.728004Z",
     "shell.execute_reply": "2021-07-05T12:52:17.725507Z",
     "shell.execute_reply.started": "2021-07-05T12:52:17.449599Z"
    },
    "tags": []
   },
   "outputs": [],
   "source": [
    "dataset_name = 'Insects_A_imb'\n",
    "\n",
    "save_path = os.path.join(BASE_DATA_DIR, dataset_name+'.csv')\n",
    "if not os.path.exists(save_path):\n",
    "    df = pd.read_csv(os.path.join(EXTERNAL_DATA_DIR, 'Insects', 'INSECTS-abrupt_imbalanced_norm.arff'), header=None, skiprows=38)\n",
    "    df.columns = ['feat%d'%i for i in range(len(df.columns)-1)] + ['label']\n",
    "    df.to_csv(save_path, index=False)\n",
    "    print(df.shape)"
   ]
  },
  {
   "cell_type": "code",
   "execution_count": 10,
   "metadata": {
    "execution": {
     "iopub.execute_input": "2021-07-05T12:52:17.730125Z",
     "iopub.status.busy": "2021-07-05T12:52:17.729423Z",
     "iopub.status.idle": "2021-07-05T12:52:18.006764Z",
     "shell.execute_reply": "2021-07-05T12:52:18.005215Z",
     "shell.execute_reply.started": "2021-07-05T12:52:17.730125Z"
    }
   },
   "outputs": [],
   "source": [
    "dataset_name = 'Insects_I_imb'\n",
    "\n",
    "save_path = os.path.join(BASE_DATA_DIR, dataset_name+'.csv')\n",
    "if not os.path.exists(save_path):\n",
    "    df = pd.read_csv(os.path.join(EXTERNAL_DATA_DIR, 'Insects', 'INSECTS-incremental_imbalanced_norm.arff'), header=None, skiprows=38)\n",
    "    df.columns = ['feat%d'%i for i in range(len(df.columns)-1)] + ['label']\n",
    "    df.to_csv(save_path, index=False)\n",
    "    print(df.shape)"
   ]
  },
  {
   "cell_type": "code",
   "execution_count": 11,
   "metadata": {
    "execution": {
     "iopub.execute_input": "2021-07-05T12:52:18.008997Z",
     "iopub.status.busy": "2021-07-05T12:52:18.008430Z",
     "iopub.status.idle": "2021-07-05T12:52:18.240168Z",
     "shell.execute_reply": "2021-07-05T12:52:18.238337Z",
     "shell.execute_reply.started": "2021-07-05T12:52:18.008997Z"
    }
   },
   "outputs": [],
   "source": [
    "dataset_name = 'Insects_IG_imb'\n",
    "\n",
    "save_path = os.path.join(BASE_DATA_DIR, dataset_name+'.csv')\n",
    "if not os.path.exists(save_path):\n",
    "    df = pd.read_csv(os.path.join(EXTERNAL_DATA_DIR, 'Insects', 'INSECTS-gradual_imbalanced_norm.arff'), header=None, skiprows=38)\n",
    "    df.columns = ['feat%d'%i for i in range(len(df.columns)-1)] + ['label']\n",
    "    df.to_csv(save_path, index=False)\n",
    "    print(df.shape)"
   ]
  },
  {
   "cell_type": "code",
   "execution_count": 12,
   "metadata": {
    "execution": {
     "iopub.execute_input": "2021-07-05T12:52:18.242616Z",
     "iopub.status.busy": "2021-07-05T12:52:18.242087Z",
     "iopub.status.idle": "2021-07-05T12:52:18.515305Z",
     "shell.execute_reply": "2021-07-05T12:52:18.514305Z",
     "shell.execute_reply.started": "2021-07-05T12:52:18.242616Z"
    },
    "tags": []
   },
   "outputs": [],
   "source": [
    "dataset_name = 'Insects_IR_imb'\n",
    "\n",
    "save_path = os.path.join(BASE_DATA_DIR, dataset_name+'.csv')\n",
    "if not os.path.exists(save_path):\n",
    "    df = pd.read_csv(os.path.join(EXTERNAL_DATA_DIR, 'Insects', 'INSECTS-incremental-reoccurring_imbalanced_norm.arff'), header=None, skiprows=38)\n",
    "    df.columns = ['feat%d'%i for i in range(len(df.columns)-1)] + ['label']\n",
    "    df.to_csv(save_path, index=False)\n",
    "    print(df.shape)"
   ]
  },
  {
   "cell_type": "code",
   "execution_count": 13,
   "metadata": {
    "execution": {
     "iopub.execute_input": "2021-07-05T12:52:18.518338Z",
     "iopub.status.busy": "2021-07-05T12:52:18.518315Z",
     "iopub.status.idle": "2021-07-05T12:52:18.768143Z",
     "shell.execute_reply": "2021-07-05T12:52:18.766296Z",
     "shell.execute_reply.started": "2021-07-05T12:52:18.518338Z"
    }
   },
   "outputs": [],
   "source": [
    "dataset_name = 'Insects_IAR_imb'\n",
    "\n",
    "save_path = os.path.join(BASE_DATA_DIR, dataset_name+'.csv')\n",
    "if not os.path.exists(save_path):\n",
    "    df = pd.read_csv(os.path.join(EXTERNAL_DATA_DIR, 'Insects', 'INSECTS-incremental-abrupt_imbalanced_norm.arff'), header=None, skiprows=38)\n",
    "    df.columns = ['feat%d'%i for i in range(len(df.columns)-1)] + ['label']\n",
    "    df.to_csv(save_path, index=False)\n",
    "    print(df.shape)"
   ]
  },
  {
   "cell_type": "code",
   "execution_count": 14,
   "metadata": {
    "execution": {
     "iopub.execute_input": "2021-07-05T12:52:18.771031Z",
     "iopub.status.busy": "2021-07-05T12:52:18.770528Z",
     "iopub.status.idle": "2021-07-05T12:52:19.007986Z",
     "shell.execute_reply": "2021-07-05T12:52:19.006495Z",
     "shell.execute_reply.started": "2021-07-05T12:52:18.771031Z"
    }
   },
   "outputs": [],
   "source": [
    "dataset_name = 'Insects_OOC'\n",
    "\n",
    "save_path = os.path.join(BASE_DATA_DIR, dataset_name+'.csv')\n",
    "if not os.path.exists(save_path):\n",
    "    df = pd.read_csv(os.path.join(EXTERNAL_DATA_DIR, 'Insects', 'INSECTS-out-of-control_norm.arff'), header=None, skiprows=38)\n",
    "    df.columns = ['feat%d'%i for i in range(len(df.columns)-1)] + ['label']\n",
    "    df.to_csv(save_path, index=False)\n",
    "    print(df.shape)"
   ]
  },
  {
   "cell_type": "markdown",
   "metadata": {
    "heading_collapsed": "true",
    "tags": []
   },
   "source": [
    "# Encode labels"
   ]
  },
  {
   "cell_type": "code",
   "execution_count": 15,
   "metadata": {
    "execution": {
     "iopub.execute_input": "2021-07-05T12:52:19.009989Z",
     "iopub.status.busy": "2021-07-05T12:52:19.009989Z",
     "iopub.status.idle": "2021-07-05T12:52:19.252208Z",
     "shell.execute_reply": "2021-07-05T12:52:19.250229Z",
     "shell.execute_reply.started": "2021-07-05T12:52:19.009989Z"
    }
   },
   "outputs": [],
   "source": [
    "def make_dataset(dataset_name):\n",
    "    save_path = os.path.join(INTERIM_DATA_DIR, dataset + '_cat.csv')\n",
    "    if os.path.exists(save_path):\n",
    "        return\n",
    "\n",
    "    path = os.path.join(BASE_DATA_DIR, dataset_name + '.csv')\n",
    "    df = pd.read_csv(path)\n",
    "\n",
    "    label_names = df['label'].astype('category').cat.categories\n",
    "    print(label_names)\n",
    "    df['label'] = df['label'].astype('category').cat.codes\n",
    "\n",
    "    df.to_csv(save_path, index=False)"
   ]
  },
  {
   "cell_type": "code",
   "execution_count": 16,
   "metadata": {
    "execution": {
     "iopub.execute_input": "2021-07-05T12:52:19.254557Z",
     "iopub.status.busy": "2021-07-05T12:52:19.253927Z",
     "iopub.status.idle": "2021-07-05T12:52:19.527545Z",
     "shell.execute_reply": "2021-07-05T12:52:19.526044Z",
     "shell.execute_reply.started": "2021-07-05T12:52:19.254557Z"
    }
   },
   "outputs": [
    {
     "name": "stdout",
     "output_type": "stream",
     "text": [
      "Insects_A\n",
      "Insects_I\n",
      "Insects_IG\n",
      "Insects_IR\n",
      "Insects_IAR\n",
      "Insects_A_imb\n",
      "Insects_I_imb\n",
      "Insects_IG_imb\n",
      "Insects_IR_imb\n",
      "Insects_IAR_imb\n",
      "Insects_OOC\n"
     ]
    }
   ],
   "source": [
    "for dataset in DATASETS:\n",
    "    print(dataset)\n",
    "    make_dataset(dataset)"
   ]
  },
  {
   "cell_type": "markdown",
   "metadata": {},
   "source": [
    "# summary of datasets"
   ]
  },
  {
   "cell_type": "code",
   "execution_count": 17,
   "metadata": {
    "execution": {
     "iopub.execute_input": "2021-07-05T12:52:19.530075Z",
     "iopub.status.busy": "2021-07-05T12:52:19.529474Z",
     "iopub.status.idle": "2021-07-05T12:52:40.354838Z",
     "shell.execute_reply": "2021-07-05T12:52:40.353245Z",
     "shell.execute_reply.started": "2021-07-05T12:52:19.530075Z"
    },
    "tags": []
   },
   "outputs": [
    {
     "data": {
      "text/html": [
       "<div>\n",
       "<style scoped>\n",
       "    .dataframe tbody tr th:only-of-type {\n",
       "        vertical-align: middle;\n",
       "    }\n",
       "\n",
       "    .dataframe tbody tr th {\n",
       "        vertical-align: top;\n",
       "    }\n",
       "\n",
       "    .dataframe thead th {\n",
       "        text-align: right;\n",
       "    }\n",
       "</style>\n",
       "<table border=\"1\" class=\"dataframe\">\n",
       "  <thead>\n",
       "    <tr style=\"text-align: right;\">\n",
       "      <th></th>\n",
       "      <th># of instances</th>\n",
       "      <th># of features</th>\n",
       "      <th># of classes</th>\n",
       "      <th>Change points</th>\n",
       "    </tr>\n",
       "    <tr>\n",
       "      <th>Dataset</th>\n",
       "      <th></th>\n",
       "      <th></th>\n",
       "      <th></th>\n",
       "      <th></th>\n",
       "    </tr>\n",
       "  </thead>\n",
       "  <tbody>\n",
       "    <tr>\n",
       "      <th>Insects_A</th>\n",
       "      <td>52,848</td>\n",
       "      <td>33</td>\n",
       "      <td>6</td>\n",
       "      <td>14,352; 19,500; 33,240; 38,682; 39,510</td>\n",
       "    </tr>\n",
       "    <tr>\n",
       "      <th>Insects_I</th>\n",
       "      <td>57,018</td>\n",
       "      <td>33</td>\n",
       "      <td>6</td>\n",
       "      <td></td>\n",
       "    </tr>\n",
       "    <tr>\n",
       "      <th>Insects_IG</th>\n",
       "      <td>24,150</td>\n",
       "      <td>33</td>\n",
       "      <td>6</td>\n",
       "      <td>14,028</td>\n",
       "    </tr>\n",
       "    <tr>\n",
       "      <th>Insects_IR</th>\n",
       "      <td>79,986</td>\n",
       "      <td>33</td>\n",
       "      <td>6</td>\n",
       "      <td>26,568; 53,364</td>\n",
       "    </tr>\n",
       "    <tr>\n",
       "      <th>Insects_IAR</th>\n",
       "      <td>79,986</td>\n",
       "      <td>33</td>\n",
       "      <td>6</td>\n",
       "      <td>26,568; 53,364</td>\n",
       "    </tr>\n",
       "    <tr>\n",
       "      <th>Insects_A_imb</th>\n",
       "      <td>355,275</td>\n",
       "      <td>33</td>\n",
       "      <td>6</td>\n",
       "      <td>83,859; 128,651; 182,320; 242,883; 268,380</td>\n",
       "    </tr>\n",
       "    <tr>\n",
       "      <th>Insects_I_imb</th>\n",
       "      <td>452,044</td>\n",
       "      <td>33</td>\n",
       "      <td>6</td>\n",
       "      <td></td>\n",
       "    </tr>\n",
       "    <tr>\n",
       "      <th>Insects_IG_imb</th>\n",
       "      <td>143,323</td>\n",
       "      <td>33</td>\n",
       "      <td>6</td>\n",
       "      <td>58,159</td>\n",
       "    </tr>\n",
       "    <tr>\n",
       "      <th>Insects_IR_imb</th>\n",
       "      <td>452,044</td>\n",
       "      <td>33</td>\n",
       "      <td>6</td>\n",
       "      <td>150,683; 301,365</td>\n",
       "    </tr>\n",
       "    <tr>\n",
       "      <th>Insects_IAR_imb</th>\n",
       "      <td>452,044</td>\n",
       "      <td>33</td>\n",
       "      <td>6</td>\n",
       "      <td>150,683; 301,365</td>\n",
       "    </tr>\n",
       "    <tr>\n",
       "      <th>Insects_OOC</th>\n",
       "      <td>905,145</td>\n",
       "      <td>33</td>\n",
       "      <td>24</td>\n",
       "      <td></td>\n",
       "    </tr>\n",
       "  </tbody>\n",
       "</table>\n",
       "</div>"
      ],
      "text/plain": [
       "                # of instances  # of features  # of classes  \\\n",
       "Dataset                                                       \n",
       "Insects_A               52,848             33             6   \n",
       "Insects_I               57,018             33             6   \n",
       "Insects_IG              24,150             33             6   \n",
       "Insects_IR              79,986             33             6   \n",
       "Insects_IAR             79,986             33             6   \n",
       "Insects_A_imb          355,275             33             6   \n",
       "Insects_I_imb          452,044             33             6   \n",
       "Insects_IG_imb         143,323             33             6   \n",
       "Insects_IR_imb         452,044             33             6   \n",
       "Insects_IAR_imb        452,044             33             6   \n",
       "Insects_OOC            905,145             33            24   \n",
       "\n",
       "                                              Change points  \n",
       "Dataset                                                      \n",
       "Insects_A            14,352; 19,500; 33,240; 38,682; 39,510  \n",
       "Insects_I                                                    \n",
       "Insects_IG                                           14,028  \n",
       "Insects_IR                                   26,568; 53,364  \n",
       "Insects_IAR                                  26,568; 53,364  \n",
       "Insects_A_imb    83,859; 128,651; 182,320; 242,883; 268,380  \n",
       "Insects_I_imb                                                \n",
       "Insects_IG_imb                                       58,159  \n",
       "Insects_IR_imb                             150,683; 301,365  \n",
       "Insects_IAR_imb                            150,683; 301,365  \n",
       "Insects_OOC                                                  "
      ]
     },
     "execution_count": 17,
     "metadata": {},
     "output_type": "execute_result"
    }
   ],
   "source": [
    "dfs = []\n",
    "for dataset in DATASETS:\n",
    "    df = pd.read_csv(os.path.join(INTERIM_DATA_DIR, dataset+'_cat.csv'))\n",
    "    dfs.append([dataset, df.shape[0], df.shape[1]-1, len(set(df['label']))])\n",
    "df = pd.DataFrame(dfs, columns=['Dataset', '# of instances', '# of features', '# of classes'])\n",
    "df = df.set_index('Dataset', drop=True)\n",
    "df['# of instances'] = df['# of instances'].map(lambda x: '{:,}'.format(x))\n",
    "df['Change points'] = pd.Series(DRIFT_POINTS).map(lambda x: ['{:,}'.format(i) for i in x]).apply('; '.join)\n",
    "df.to_latex(os.path.join(OUTPUT_DIR, 'stream_dataset.txt'))\n",
    "df"
   ]
  },
  {
   "cell_type": "code",
   "execution_count": null,
   "metadata": {},
   "outputs": [],
   "source": []
  }
 ],
 "metadata": {
  "kernelspec": {
   "display_name": "Python 3",
   "language": "python",
   "name": "python3"
  },
  "language_info": {
   "codemirror_mode": {
    "name": "ipython",
    "version": 3
   },
   "file_extension": ".py",
   "mimetype": "text/x-python",
   "name": "python",
   "nbconvert_exporter": "python",
   "pygments_lexer": "ipython3",
   "version": "3.8.1"
  },
  "toc-autonumbering": true,
  "toc-showmarkdowntxt": false,
  "toc-showtags": false,
  "widgets": {
   "application/vnd.jupyter.widget-state+json": {
    "state": {},
    "version_major": 2,
    "version_minor": 0
   }
  }
 },
 "nbformat": 4,
 "nbformat_minor": 4
}
